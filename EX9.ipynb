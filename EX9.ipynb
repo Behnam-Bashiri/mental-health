{
 "cells": [
  {
   "cell_type": "code",
   "execution_count": 1,
   "id": "25e21630-3e75-4d37-a8d0-cd8f3c698100",
   "metadata": {},
   "outputs": [
    {
     "name": "stdout",
     "output_type": "stream",
     "text": [
      "\u001b[96m✅ دقت مدل Random Forest: 82.98%\u001b[0m\n"
     ]
    }
   ],
   "source": [
    "from sklearn.model_selection import train_test_split\n",
    "from sklearn.ensemble import RandomForestClassifier\n",
    "from sklearn.metrics import accuracy_score\n",
    "import pandas as pd\n",
    "\n",
    "# بارگذاری دوباره فایل CSV\n",
    "df = pd.read_csv(\"student_depression_dataset.csv\")\n",
    "\n",
    "# فرض: ستون 'Depression' برچسب هدف ماست و بقیه‌ی ستون‌ها ویژگی‌ها هستن\n",
    "# (در صورت وجود ستون‌های غیرمفید مثل 'id' قبلاً حذفشون کردیم)\n",
    "\n",
    "# جدا کردن برچسب هدف و ویژگی‌ها\n",
    "X = df.drop(\"Depression\", axis=1)  # حذف ستون 'Depression' از ویژگی‌ها\n",
    "y = df[\"Depression\"]  # برچسب هدف (Depression)\n",
    "\n",
    "# اطمینان از اینکه داده‌ها عددی‌ هستند — تبدیل ویژگی‌های غیرعددی به عددی (One-hot encoding)\n",
    "X = pd.get_dummies(X)  # تبدیل ویژگی‌های غیرعددی به کد عددی\n",
    "\n",
    "# تقسیم داده‌ها به 75٪ آموزش و 25٪ تست\n",
    "X_train, X_test, y_train, y_test = train_test_split(X, y, test_size=0.25, random_state=42)\n",
    "\n",
    "# ساخت مدل Random Forest\n",
    "model = RandomForestClassifier(random_state=42)\n",
    "\n",
    "# آموزش مدل روی داده‌ی آموزش\n",
    "model.fit(X_train, y_train)\n",
    "\n",
    "# پیش‌بینی روی داده‌ی تست\n",
    "y_pred = model.predict(X_test)\n",
    "\n",
    "# محاسبه دقت\n",
    "accuracy = accuracy_score(y_test, y_pred)\n",
    "\n",
    "# نمایش دقت\n",
    "print(f\"\\033[96m✅ دقت مدل Random Forest: {accuracy:.2%}\\033[0m\")\n"
   ]
  },
  {
   "cell_type": "code",
   "execution_count": null,
   "id": "b603f215-d09e-4030-8089-9bdfaa24657a",
   "metadata": {},
   "outputs": [],
   "source": []
  }
 ],
 "metadata": {
  "kernelspec": {
   "display_name": "Python 3 (ipykernel)",
   "language": "python",
   "name": "python3"
  },
  "language_info": {
   "codemirror_mode": {
    "name": "ipython",
    "version": 3
   },
   "file_extension": ".py",
   "mimetype": "text/x-python",
   "name": "python",
   "nbconvert_exporter": "python",
   "pygments_lexer": "ipython3",
   "version": "3.13.3"
  }
 },
 "nbformat": 4,
 "nbformat_minor": 5
}
