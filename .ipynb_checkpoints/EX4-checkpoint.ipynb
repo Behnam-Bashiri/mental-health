{
 "cells": [
  {
   "cell_type": "code",
   "execution_count": 3,
   "id": "fdf3f59c-f8eb-440a-a606-599e28157e7d",
   "metadata": {},
   "outputs": [
    {
     "name": "stdout",
     "output_type": "stream",
     "text": [
      "\u001b[94mنتیجه دسته‌بندی CGPA:\u001b[0m\n",
      "cgpa_cat\n",
      "Weak         9375\n",
      "Brilliant    9282\n",
      "Good         9244\n",
      "Name: count, dtype: int64\n"
     ]
    }
   ],
   "source": [
    "import pandas as pd\n",
    "\n",
    "# بارگذاری داده‌ها از فایل CSV به یک DataFrame به نام df\n",
    "# در این بخش داده‌ها از فایل \"student_depression_dataset.csv\" بارگذاری می‌شوند\n",
    "df = pd.read_csv(\"student_depression_dataset.csv\")\n",
    "\n",
    "# حذف ستون \"id\" که برای شناسایی یکتای دانشجویان است و به تجزیه و تحلیل نیازی ندارد\n",
    "# ستون 'id' ممکن است فقط به عنوان یک شناسه یکتا برای هر دانشجو باشد و در تحلیل‌ها استفاده نمی‌شود.\n",
    "df = df.drop(columns=[\"id\"])\n",
    "\n",
    "# دسته‌بندی نمرات CGPA به 3 گروه مساوی: \"Weak\"، \"Good\"، \"Brilliant\"\n",
    "# در این بخش از تابع qcut برای تقسیم داده‌ها به 3 گروه استفاده می‌شود که هر گروه تعداد تقریباً برابری از نمونه‌ها دارد.\n",
    "df[\"cgpa_cat\"] = pd.qcut(df[\"CGPA\"], q=3, labels=[\"Weak\", \"Good\", \"Brilliant\"])\n",
    "\n",
    "# شمارش تعداد دانشجویان در هر گروه دسته‌بندی شده (Weak, Good, Brilliant)\n",
    "# با استفاده از متد value_counts تعداد دانشجویان در هر گروه دسته‌بندی شده محاسبه و نمایش داده می‌شود.\n",
    "cgpa_group_counts = df[\"cgpa_cat\"].value_counts()\n",
    "\n",
    "print(\"\\n \\033[94mنتیجه دسته‌بندی CGPA:\\033[0m\")\n",
    "for label, count in cgpa_group_counts.items():\n",
    "    print(f\"🔹 {label}: {count} دانشجو\")\n",
    "\n",
    "# حذف ستون \"CGPA\" از دیتاست\n",
    "# پس از دسته‌بندی نمرات، ستون 'CGPA' که اطلاعات اصلی را شامل می‌شود دیگر مورد نیاز نیست و حذف می‌شود.\n",
    "df = df.drop(columns=[\"CGPA\"])\n"
   ]
  }
 ],
 "metadata": {
  "kernelspec": {
   "display_name": "Python 3 (ipykernel)",
   "language": "python",
   "name": "python3"
  },
  "language_info": {
   "codemirror_mode": {
    "name": "ipython",
    "version": 3
   },
   "file_extension": ".py",
   "mimetype": "text/x-python",
   "name": "python",
   "nbconvert_exporter": "python",
   "pygments_lexer": "ipython3",
   "version": "3.13.3"
  }
 },
 "nbformat": 4,
 "nbformat_minor": 5
}
