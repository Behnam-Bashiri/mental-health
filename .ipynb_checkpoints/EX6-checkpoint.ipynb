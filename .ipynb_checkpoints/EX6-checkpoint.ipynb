{
 "cells": [
  {
   "cell_type": "code",
   "execution_count": 4,
   "id": "95628408-0bb4-4a0a-87b6-cf8538ace5a7",
   "metadata": {},
   "outputs": [
    {
     "name": "stdout",
     "output_type": "stream",
     "text": [
      "\u001b[94m✅ تقسیم داده‌ها با Stratified Sampling:\u001b[0m\n",
      "Train size: 20925\n",
      "Test size: 6976\n",
      "\n",
      "نسبت جنسیت در کل داده:\n",
      "Gender\n",
      "Male      0.55722\n",
      "Female    0.44278\n",
      "Name: proportion, dtype: float64\n",
      "\n",
      "نسبت جنسیت در Train:\n",
      "Gender\n",
      "Male      0.557228\n",
      "Female    0.442772\n",
      "Name: proportion, dtype: float64\n",
      "\n",
      "نسبت جنسیت در Test:\n",
      "Gender\n",
      "Male      0.557196\n",
      "Female    0.442804\n",
      "Name: proportion, dtype: float64\n"
     ]
    }
   ],
   "source": [
    "import pandas as pd\n",
    "from sklearn.model_selection import train_test_split  # برای تقسیم داده‌ها به مجموعه‌های آموزش و آزمایش\n",
    "\n",
    "# بارگذاری داده‌ها از فایل CSV\n",
    "df = pd.read_csv(\"student_depression_dataset.csv\")\n",
    "\n",
    "# حذف ستون \"id\" که برای شناسایی یکتای دانشجویان است و به تجزیه و تحلیل نیازی ندارد\n",
    "df = df.drop(columns=[\"id\"])\n",
    "\n",
    "# تقسیم داده‌ها به مجموعه‌های آموزش و آزمایش با استفاده از Stratified Sampling\n",
    "# Stratified Sampling باعث می‌شود که نسبت دسته‌ها (جنسیت در اینجا) در داده‌های آموزش و آزمایش مشابه نسبت اصلی باشد.\n",
    "train_strat, test_strat = train_test_split(\n",
    "    df,\n",
    "    test_size=0.25,  # 25% از داده‌ها برای آزمایش\n",
    "    stratify=df[\"Gender\"],  # حفظ نسبت جنسیت‌ها در داده‌های آموزش و آزمایش\n",
    "    random_state=42  # تعیین seed برای تولید تصادفی قابل تکرار\n",
    ")\n",
    "\n",
    "# چاپ نتایج\n",
    "print(\"\\033[94m✅ تقسیم داده‌ها با Stratified Sampling:\\033[0m\")\n",
    "\n",
    "# نمایش اندازه داده‌های آموزش و آزمایش\n",
    "print(\"Train size:\", len(train_strat))\n",
    "print(\"Test size:\", len(test_strat))\n",
    "\n",
    "# چاپ نسبت جنسیت در کل داده‌ها\n",
    "print(\"\\nنسبت جنسیت در کل داده:\")\n",
    "print(df[\"Gender\"].value_counts(normalize=True))  # مقادیر نسبت جنسیت به صورت نرمال شده\n",
    "\n",
    "# چاپ نسبت جنسیت در داده‌های آموزشی\n",
    "print(\"\\nنسبت جنسیت در Train:\")\n",
    "print(train_strat[\"Gender\"].value_counts(normalize=True))  # مقادیر نسبت جنسیت در مجموعه آموزش\n",
    "\n",
    "# چاپ نسبت جنسیت در داده‌های آزمایشی\n",
    "print(\"\\nنسبت جنسیت در Test:\")\n",
    "print(test_strat[\"Gender\"].value_counts(normalize=True))  # مقادیر نسبت جنسیت در مجموعه آزمایش\n"
   ]
  },
  {
   "cell_type": "code",
   "execution_count": 5,
   "id": "ec2067e6-82ca-4ab5-878f-615e10da26e1",
   "metadata": {},
   "outputs": [
    {
     "name": "stdout",
     "output_type": "stream",
     "text": [
      "\n",
      "\u001b[93m📊 تقسیم داده‌ها با Sampling تصادفی:\u001b[0m\n",
      "Train Gender Distribution:\n",
      "Gender\n",
      "Male      0.558853\n",
      "Female    0.441147\n",
      "Name: proportion, dtype: float64\n",
      "\n",
      "Test Gender Distribution:\n",
      "Gender\n",
      "Male      0.552322\n",
      "Female    0.447678\n",
      "Name: proportion, dtype: float64\n"
     ]
    }
   ],
   "source": [
    "# تقسیم داده‌ها بدون استفاده از Stratified Sampling (Sampling تصادفی)\n",
    "# در این حالت، تقسیم داده‌ها به صورت تصادفی انجام می‌شود بدون اینکه نسبت دسته‌ها (جنسیت در اینجا) حفظ شود\n",
    "train_rand, test_rand = train_test_split(\n",
    "    df,\n",
    "    test_size=0.25,  # 25% از داده‌ها برای آزمایش\n",
    "    random_state=42  # تعیین seed برای تولید تصادفی قابل تکرار\n",
    ")\n",
    "\n",
    "# چاپ نتایج تقسیم داده‌ها به صورت تصادفی\n",
    "print(\"\\n\\033[93m📊 تقسیم داده‌ها با Sampling تصادفی:\\033[0m\")\n",
    "\n",
    "# نمایش توزیع جنسیت در داده‌های آموزشی\n",
    "print(\"Train Gender Distribution:\")\n",
    "print(train_rand[\"Gender\"].value_counts(normalize=True))  # مقادیر نسبت جنسیت در مجموعه آموزش\n",
    "\n",
    "# نمایش توزیع جنسیت در داده‌های آزمایشی\n",
    "print(\"\\nTest Gender Distribution:\")\n",
    "print(test_rand[\"Gender\"].value_counts(normalize=True))  # مقادیر نسبت جنسیت در مجموعه آزمایش\n"
   ]
  },
  {
   "cell_type": "code",
   "execution_count": 6,
   "id": "86b0db6a-de80-451d-b7ef-e617ee0d3947",
   "metadata": {},
   "outputs": [
    {
     "name": "stdout",
     "output_type": "stream",
     "text": [
      "\u001b[96m📊 جدول مقایسه‌ای نسبت جنسیت‌ها:\u001b[0m\n",
      "                    Female (%)  Male (%)\n",
      "کل داده‌ها               44.28     55.72\n",
      "Train (Stratified)       44.28     55.72\n",
      "Test (Stratified)        44.28     55.72\n",
      "Train (Random)           44.11     55.89\n",
      "Test (Random)            44.77     55.23\n"
     ]
    }
   ],
   "source": [
    "import pandas as pd\n",
    "from sklearn.model_selection import train_test_split  # برای تقسیم داده‌ها به مجموعه‌های آموزش و آزمایش\n",
    "\n",
    "# بارگذاری داده‌ها از فایل CSV و حذف ستون \"id\" که برای شناسایی یکتای دانشجویان است\n",
    "df = pd.read_csv(\"student_depression_dataset.csv\").drop(columns=[\"id\"])\n",
    "\n",
    "# تقسیم داده‌ها به مجموعه‌های آموزش و آزمایش با استفاده از Stratified Sampling (حفظ نسبت جنسیت‌ها)\n",
    "train_strat, test_strat = train_test_split(df, test_size=0.25, stratify=df[\"Gender\"], random_state=42)\n",
    "\n",
    "# تقسیم داده‌ها به مجموعه‌های آموزش و آزمایش با استفاده از Random Sampling (تقسیم تصادفی بدون حفظ نسبت‌ها)\n",
    "train_rand, test_rand = train_test_split(df, test_size=0.25, random_state=42)\n",
    "\n",
    "# تابعی برای محاسبه درصد جنسیت در هر مجموعه\n",
    "def gender_dist(data):\n",
    "    # محاسبه نسبت جنسیت‌ها و تبدیل به درصد\n",
    "    return data[\"Gender\"].value_counts(normalize=True).mul(100).round(2)\n",
    "\n",
    "# ساخت یک دیتافریم برای مقایسه درصد جنسیت‌ها در مجموعه‌های مختلف\n",
    "comparison_df = pd.DataFrame({\n",
    "    \"Female (%)\": [\n",
    "        gender_dist(df).get(\"Female\", 0),  # درصد زنان در کل داده‌ها\n",
    "        gender_dist(train_strat).get(\"Female\", 0),  # درصد زنان در مجموعه آموزش Stratified\n",
    "        gender_dist(test_strat).get(\"Female\", 0),  # درصد زنان در مجموعه آزمایش Stratified\n",
    "        gender_dist(train_rand).get(\"Female\", 0),  # درصد زنان در مجموعه آموزش Random\n",
    "        gender_dist(test_rand).get(\"Female\", 0),  # درصد زنان در مجموعه آزمایش Random\n",
    "    ],\n",
    "    \"Male (%)\": [\n",
    "        gender_dist(df).get(\"Male\", 0),  # درصد مردان در کل داده‌ها\n",
    "        gender_dist(train_strat).get(\"Male\", 0),  # درصد مردان در مجموعه آموزش Stratified\n",
    "        gender_dist(test_strat).get(\"Male\", 0),  # درصد مردان در مجموعه آزمایش Stratified\n",
    "        gender_dist(train_rand).get(\"Male\", 0),  # درصد مردان در مجموعه آموزش Random\n",
    "        gender_dist(test_rand).get(\"Male\", 0),  # درصد مردان در مجموعه آزمایش Random\n",
    "    ]\n",
    "}, index=[\"کل داده‌ها\", \"Train (Stratified)\", \"Test (Stratified)\", \"Train (Random)\", \"Test (Random)\"])\n",
    "\n",
    "# نمایش جدول مقایسه‌ای\n",
    "print(\"\\033[96m📊 جدول مقایسه‌ای نسبت جنسیت‌ها:\\033[0m\")\n",
    "print(comparison_df)\n",
    "\n",
    "# اگر بخواهید خروجی جدول را به فایل CSV ذخیره کنید:\n",
    "# comparison_df.to_csv(\"gender_split_comparison.csv\")\n"
   ]
  },
  {
   "cell_type": "code",
   "execution_count": null,
   "id": "be8a4525-5f27-4aa7-97b5-ed1f25b81902",
   "metadata": {},
   "outputs": [],
   "source": []
  }
 ],
 "metadata": {
  "kernelspec": {
   "display_name": "Python 3 (ipykernel)",
   "language": "python",
   "name": "python3"
  },
  "language_info": {
   "codemirror_mode": {
    "name": "ipython",
    "version": 3
   },
   "file_extension": ".py",
   "mimetype": "text/x-python",
   "name": "python",
   "nbconvert_exporter": "python",
   "pygments_lexer": "ipython3",
   "version": "3.13.3"
  }
 },
 "nbformat": 4,
 "nbformat_minor": 5
}
