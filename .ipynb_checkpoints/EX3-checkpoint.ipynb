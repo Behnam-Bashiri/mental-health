{
 "cells": [
  {
   "cell_type": "code",
   "execution_count": 3,
   "id": "eb1d4d67-860a-412a-af64-d8bdc1144b0f",
   "metadata": {},
   "outputs": [
    {
     "name": "stdout",
     "output_type": "stream",
     "text": [
      "\u001b[92mستون 'id' با موفقیت حذف شد. ستون‌های باقی‌مانده:\u001b[0m\n",
      "['Gender', 'Age', 'City', 'Profession', 'Academic Pressure', 'Work Pressure', 'CGPA', 'Study Satisfaction', 'Job Satisfaction', 'Sleep Duration', 'Dietary Habits', 'Degree', 'Have you ever had suicidal thoughts ?', 'Work/Study Hours', 'Financial Stress', 'Family History of Mental Illness', 'Depression']\n"
     ]
    }
   ],
   "source": [
    "import pandas as pd\n",
    "\n",
    "# بارگذاری داده‌ها از فایل CSV\n",
    "df = pd.read_csv(\"student_depression_dataset.csv\")\n",
    "\n",
    "# حذف ستون 'id' از دیتافریم\n",
    "# استفاده از متد drop برای حذف ستون خاص. در اینجا ستون 'id' از دیتافریم حذف می‌شود.\n",
    "df = df.drop(columns=[\"id\"])\n",
    "\n",
    "# نمایش پیام موفقیت‌آمیز بودن حذف ستون 'id' و نمایش لیست ستون‌های باقی‌مانده\n",
    "# پس از حذف ستون 'id'، نام ستون‌های باقی‌مانده با استفاده از df.columns.tolist() نمایش داده می‌شود.\n",
    "print(\"\\033[92mستون 'id' با موفقیت حذف شد. ستون‌های باقی‌مانده:\\033[0m\")\n",
    "print(df.columns.tolist())  # نمایش لیست ستون‌های باقی‌مانده\n"
   ]
  },
  {
   "cell_type": "code",
   "execution_count": null,
   "id": "9a122e27-b525-4dbe-bf13-453ea15f33e4",
   "metadata": {},
   "outputs": [],
   "source": []
  }
 ],
 "metadata": {
  "kernelspec": {
   "display_name": "Python 3 (ipykernel)",
   "language": "python",
   "name": "python3"
  },
  "language_info": {
   "codemirror_mode": {
    "name": "ipython",
    "version": 3
   },
   "file_extension": ".py",
   "mimetype": "text/x-python",
   "name": "python",
   "nbconvert_exporter": "python",
   "pygments_lexer": "ipython3",
   "version": "3.13.3"
  }
 },
 "nbformat": 4,
 "nbformat_minor": 5
}
