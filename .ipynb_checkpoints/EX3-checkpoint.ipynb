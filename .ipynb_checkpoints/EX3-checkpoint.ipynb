{
 "cells": [
  {
   "cell_type": "code",
   "execution_count": 1,
   "id": "eb1d4d67-860a-412a-af64-d8bdc1144b0f",
   "metadata": {},
   "outputs": [
    {
     "name": "stdout",
     "output_type": "stream",
     "text": [
      "\u001b[92mستون 'id' با موفقیت حذف شد. ستون‌های باقی‌مانده:\u001b[0m\n",
      "🧩 لیست ستون‌های دیتافریم:\n",
      "==============================\n",
      " 1. Gender\n",
      " 2. Age\n",
      " 3. City\n",
      " 4. Profession\n",
      " 5. Academic Pressure\n",
      " 6. Work Pressure\n",
      " 7. CGPA\n",
      " 8. Study Satisfaction\n",
      " 9. Job Satisfaction\n",
      "10. Sleep Duration\n",
      "11. Dietary Habits\n",
      "12. Degree\n",
      "13. Have you ever had suicidal thoughts ?\n",
      "14. Work/Study Hours\n",
      "15. Financial Stress\n",
      "16. Family History of Mental Illness\n",
      "17. Depression\n"
     ]
    }
   ],
   "source": [
    "import pandas as pd\n",
    "\n",
    "# بارگذاری داده‌ها از فایل CSV\n",
    "df = pd.read_csv(\"student_depression_dataset.csv\")\n",
    "\n",
    "# حذف ستون 'id' از دیتافریم\n",
    "# استفاده از متد drop برای حذف ستون خاص. در اینجا ستون 'id' از دیتافریم حذف می‌شود.\n",
    "df = df.drop(columns=[\"id\"])\n",
    "\n",
    "# نمایش پیام موفقیت‌آمیز بودن حذف ستون 'id' و نمایش لیست ستون‌های باقی‌مانده\n",
    "# پس از حذف ستون 'id'، نام ستون‌های باقی‌مانده با استفاده از df.columns.tolist() نمایش داده می‌شود.\n",
    "print(\"\\033[92mستون 'id' با موفقیت حذف شد. ستون‌های باقی‌مانده:\\033[0m\")\n",
    "print(\"🧩 لیست ستون‌های دیتافریم:\")\n",
    "print(\"=\" * 30)\n",
    "for i, col in enumerate(df.columns, start=1):\n",
    "    print(f\"{i:>2}. {col}\")\n",
    " # نمایش لیست ستون‌های باقی‌مانده\n"
   ]
  },
  {
   "cell_type": "code",
   "execution_count": null,
   "id": "9a122e27-b525-4dbe-bf13-453ea15f33e4",
   "metadata": {},
   "outputs": [],
   "source": []
  }
 ],
 "metadata": {
  "kernelspec": {
   "display_name": "Python 3 (ipykernel)",
   "language": "python",
   "name": "python3"
  },
  "language_info": {
   "codemirror_mode": {
    "name": "ipython",
    "version": 3
   },
   "file_extension": ".py",
   "mimetype": "text/x-python",
   "name": "python",
   "nbconvert_exporter": "python",
   "pygments_lexer": "ipython3",
   "version": "3.13.3"
  }
 },
 "nbformat": 4,
 "nbformat_minor": 5
}
