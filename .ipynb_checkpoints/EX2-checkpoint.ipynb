{
 "cells": [
  {
   "cell_type": "code",
   "execution_count": 6,
   "id": "7c4f340f-50b7-4ee3-a867-fc66d349f355",
   "metadata": {},
   "outputs": [
    {
     "name": "stdout",
     "output_type": "stream",
     "text": [
      "\u001b[92mهیچ مقدار گمشده‌ای در دیتاست وجود ندارد ✔️\u001b[0m\n"
     ]
    }
   ],
   "source": [
    "import pandas as pd\n",
    "\n",
    "# مرحله 2: بررسی مقدارهای گمشده (Missing Values)\n",
    "# - بررسی تعداد مقادیر گمشده در هر ستون با استفاده از isnull().sum()\n",
    "# - اگر مقدار گمشده‌ای وجود داشته باشد، آن را شناسایی و در صورت نیاز در مراحل بعدی مدیریت می‌کنیم.\n",
    "\n",
    "# بازخوانی داده‌ها برای اطمینان از تعریف صحیح df\n",
    "df = pd.read_csv(\"student_depression_dataset.csv\")\n",
    "\n",
    "# بررسی تعداد مقادیر گمشده در هر ستون با استفاده از isnull().sum()\n",
    "missing_values = df.isnull().sum()\n",
    "\n",
    "# نمایش فقط ستون‌هایی که مقدار گمشده دارند\n",
    "missing_columns = missing_values[missing_values > 0]\n",
    "\n",
    "# اگر ستون‌هایی با مقدار گمشده وجود داشته باشند، آن‌ها را نمایش می‌دهیم\n",
    "if not missing_columns.empty:\n",
    "    print(\"\\033[91mستون‌های دارای مقدار گمشده:\\033[0m\")\n",
    "    print(missing_columns)\n",
    "else:\n",
    "    print(\"\\033[92mهیچ مقدار گمشده‌ای در دیتاست وجود ندارد ✔️\\033[0m\")\n",
    "\n",
    "# توضیح: مقدار گمشده به این معناست که در یک سطر خاص برای یک ستون، داده‌ای موجود نیست \n",
    "# (که در pandas به آن NaN می‌گویند). این مقادیر باید شناسایی و در صورت نیاز، \n",
    "# با روش‌های مختلفی مانند جایگزینی، حذف یا پیش‌بینی مدیریت شوند.\n"
   ]
  },
  {
   "cell_type": "code",
   "execution_count": null,
   "id": "d95ac297-366c-45db-b46c-2e0afd2e2f25",
   "metadata": {},
   "outputs": [],
   "source": []
  }
 ],
 "metadata": {
  "kernelspec": {
   "display_name": "Python 3 (ipykernel)",
   "language": "python",
   "name": "python3"
  },
  "language_info": {
   "codemirror_mode": {
    "name": "ipython",
    "version": 3
   },
   "file_extension": ".py",
   "mimetype": "text/x-python",
   "name": "python",
   "nbconvert_exporter": "python",
   "pygments_lexer": "ipython3",
   "version": "3.13.3"
  }
 },
 "nbformat": 4,
 "nbformat_minor": 5
}
